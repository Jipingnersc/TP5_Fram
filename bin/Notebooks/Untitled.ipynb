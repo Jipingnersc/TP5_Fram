{
 "cells": [
  {
   "cell_type": "code",
   "execution_count": null,
   "metadata": {
    "collapsed": false
   },
   "outputs": [],
   "source": [
    "%load_ext autoreload\n",
    "%autoreload 2\n",
    "%matplotlib inline  \n",
    "\n",
    "import modeltools.hycom.io\n",
    "import matplotlib.pyplot\n",
    "import modeltools.bathy\n",
    "import modeltools.hycom.io\n",
    "import numpy\n",
    "\n",
    "f = modeltools.hycom.io.AFile(1350,1150,\"/work/knutali/hycom/TP5a0.05/topo/partit/SCRATCH/depth_TP5a0.05_01_cfl.a\",\"r\")\n",
    "fld=f.zaiord_a(0,0)\n",
    "figure = matplotlib.pyplot.figure(figsize=(8,8))\n",
    "ax=figure.add_subplot(111)\n",
    "P=matplotlib.pyplot.pcolormesh(fld)\n",
    "#P.set_clim(33,36)\n",
    "figure.colorbar(P)\n",
    "matplotlib.pyplot.show()\n"
   ]
  },
  {
   "cell_type": "code",
   "execution_count": null,
   "metadata": {
    "collapsed": true
   },
   "outputs": [],
   "source": []
  }
 ],
 "metadata": {
  "kernelspec": {
   "display_name": "Python 2",
   "language": "python",
   "name": "python2"
  },
  "language_info": {
   "codemirror_mode": {
    "name": "ipython",
    "version": 2
   },
   "file_extension": ".py",
   "mimetype": "text/x-python",
   "name": "python",
   "nbconvert_exporter": "python",
   "pygments_lexer": "ipython2",
   "version": "2.7.9"
  }
 },
 "nbformat": 4,
 "nbformat_minor": 0
}
