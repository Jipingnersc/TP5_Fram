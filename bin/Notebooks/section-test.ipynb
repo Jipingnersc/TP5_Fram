{
 "cells": [
  {
   "cell_type": "code",
   "execution_count": null,
   "metadata": {
    "collapsed": false
   },
   "outputs": [],
   "source": [
    "%load_ext autoreload\n",
    "%autoreload 2\n",
    "%matplotlib inline  \n",
    "\n",
    "import modeltools.grid\n",
    "import matplotlib.pyplot\n",
    "import modeltools.forcing.bathy\n",
    "import modeltools.cice.io\n",
    "import modeltools.tools\n",
    "from mpl_toolkits.basemap import Basemap\n",
    "\n",
    "\n",
    "import numpy\n",
    "#grid1=modeltools.grid.Proj4Grid(\"+proj=stere  +lon_0=-30 +lat_0=90 +lat_ts=90 +ellps=sphere\",\n",
    "#                              -60,20,100000,100000,100,100)\n",
    "grid1=modeltools.grid.Proj4Grid(\"+proj=mill  +lon_0=0 +lat_0=0 +ellps=sphere\",\n",
    "                              -180,-60,100000,100000,300,120)\n",
    "\n",
    "figure=grid1.plotgrid(2)\n",
    "matplotlib.pyplot.show()\n",
    "\n",
    "\n",
    "#figure=grid1.plotgrid(1.5)\n",
    "#matplotlib.pyplot.show()\n",
    "#modeltools.hycom.io.write_regional_grid(grid1)\n",
    "#modeltools.cice.io.write_netcdf_grid(grid1,\"cice_grid.nc\")\n",
    "\n"
   ]
  },
  {
   "cell_type": "code",
   "execution_count": null,
   "metadata": {
    "collapsed": false,
    "scrolled": false
   },
   "outputs": [],
   "source": [
    "wp_lon=[-100,39]\n",
    "wp_lat=[0,10]\n",
    "plon,plat=grid1.pgrid()\n",
    "ulon,ulat=grid1.ugrid()\n",
    "sec = modeltools.tools.Section(wp_lon,wp_lat,plon,plat)\n",
    "\n",
    "\n",
    "fig=sec.plot_section_mask(plon=plon,plat=plat)\n",
    "fig=sec.plot_section_arrows(plon=plon,plat=plat)\n",
    "fig=sec.plot_section_1d(plon=plon,plat=plat)\n"
   ]
  },
  {
   "cell_type": "code",
   "execution_count": null,
   "metadata": {
    "collapsed": true
   },
   "outputs": [],
   "source": []
  },
  {
   "cell_type": "code",
   "execution_count": null,
   "metadata": {
    "collapsed": true
   },
   "outputs": [],
   "source": []
  },
  {
   "cell_type": "code",
   "execution_count": null,
   "metadata": {
    "collapsed": true
   },
   "outputs": [],
   "source": []
  }
 ],
 "metadata": {
  "kernelspec": {
   "display_name": "Python 2",
   "language": "python",
   "name": "python2"
  },
  "language_info": {
   "codemirror_mode": {
    "name": "ipython",
    "version": 2
   },
   "file_extension": ".py",
   "mimetype": "text/x-python",
   "name": "python",
   "nbconvert_exporter": "python",
   "pygments_lexer": "ipython2",
   "version": "2.7.9"
  }
 },
 "nbformat": 4,
 "nbformat_minor": 0
}
