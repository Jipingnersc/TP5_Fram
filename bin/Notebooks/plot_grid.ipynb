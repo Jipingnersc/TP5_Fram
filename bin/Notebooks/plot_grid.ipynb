{
 "cells": [
  {
   "cell_type": "code",
   "execution_count": null,
   "metadata": {
    "collapsed": false,
    "scrolled": false
   },
   "outputs": [],
   "source": [
    "import abfile\n",
    "import numpy\n",
    "import matplotlib.pyplot as plt\n",
    "%matplotlib inline\n",
    "\n",
    "def plot_fld(vname,tst1) :\n",
    "    f, (ax1) = plt.subplots(1, 1, figsize=(8, 8))\n",
    "    P=ax1.pcolormesh(tst1[vname]) ; plt.colorbar(P,ax=ax1); ax1.set_title(vname); \n",
    "\n",
    "\n",
    "tmp1=abfile.ABFileGrid(\"regional.grid\",\"r\")\n",
    "tst1={}\n",
    "\n",
    "for i in sorted(tmp1.fieldnames) :\n",
    "    tst1[i]=tmp1.read_field(i);\n",
    "tmp1.close()\n",
    "    \n",
    "plot_fld(\"cori\",tst1)\n",
    "plot_fld(\"plat\",tst1)\n",
    "plot_fld(\"pang\",tst1)\n",
    "plot_fld(\"pasp\",tst1)\n",
    "plot_fld(\"scpx\",tst1)\n",
    "\n",
    "\n",
    "\n",
    "\n"
   ]
  },
  {
   "cell_type": "code",
   "execution_count": null,
   "metadata": {
    "collapsed": true
   },
   "outputs": [],
   "source": []
  },
  {
   "cell_type": "code",
   "execution_count": null,
   "metadata": {
    "collapsed": true
   },
   "outputs": [],
   "source": []
  }
 ],
 "metadata": {
  "kernelspec": {
   "display_name": "Python 2",
   "language": "python",
   "name": "python2"
  },
  "language_info": {
   "codemirror_mode": {
    "name": "ipython",
    "version": 2
   },
   "file_extension": ".py",
   "mimetype": "text/x-python",
   "name": "python",
   "nbconvert_exporter": "python",
   "pygments_lexer": "ipython2",
   "version": "2.7.9"
  }
 },
 "nbformat": 4,
 "nbformat_minor": 0
}
