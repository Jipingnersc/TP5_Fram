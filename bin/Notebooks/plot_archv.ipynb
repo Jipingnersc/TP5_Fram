{
 "cells": [
  {
   "cell_type": "code",
   "execution_count": null,
   "metadata": {
    "collapsed": false
   },
   "outputs": [],
   "source": [
    "%matplotlib inline\n",
    "%load_ext autoreload\n",
    "\n",
    "import abfile\n",
    "import numpy\n",
    "import matplotlib.pyplot as plt\n",
    "\n",
    "\n",
    "def plot_fld(vname,fld) :\n",
    "    f, (ax1) = plt.subplots(1, 1, figsize=(15, 5))\n",
    "    P=ax1.pcolormesh(fld) ; plt.colorbar(P,ax=ax1); ax1.set_title(vname); \n",
    "\n",
    "\n",
    "tmp1=abfile.ABFileArchv(\"archv.2013_004_12\",\"r\")\n",
    "\n",
    "tst1={}\n",
    "\n",
    "\n",
    "sss=tmp1.read_field(\"salin\",1)\n",
    "sst=tmp1.read_field(\"temp\",1)\n",
    "\n",
    "\n",
    "    \n",
    "plot_fld(\"sss\",sss)\n",
    "plot_fld(\"sst\",sst)\n",
    "\n",
    "\n"
   ]
  },
  {
   "cell_type": "code",
   "execution_count": null,
   "metadata": {
    "collapsed": true
   },
   "outputs": [],
   "source": []
  },
  {
   "cell_type": "code",
   "execution_count": null,
   "metadata": {
    "collapsed": true
   },
   "outputs": [],
   "source": []
  }
 ],
 "metadata": {
  "kernelspec": {
   "display_name": "Python 2",
   "language": "python",
   "name": "python2"
  },
  "language_info": {
   "codemirror_mode": {
    "name": "ipython",
    "version": 2
   },
   "file_extension": ".py",
   "mimetype": "text/x-python",
   "name": "python",
   "nbconvert_exporter": "python",
   "pygments_lexer": "ipython2",
   "version": "2.7.9"
  }
 },
 "nbformat": 4,
 "nbformat_minor": 0
}
