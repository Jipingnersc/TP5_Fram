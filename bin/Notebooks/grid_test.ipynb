{
 "cells": [
  {
   "cell_type": "code",
   "execution_count": null,
   "metadata": {
    "collapsed": false,
    "scrolled": false
   },
   "outputs": [],
   "source": [
    "%load_ext autoreload\n",
    "%autoreload 2\n",
    "%matplotlib inline  \n",
    "\n",
    "import modelgrid\n",
    "import matplotlib.pyplot\n",
    "import abfile\n",
    "import pylab\n",
    "pylab.rcParams['figure.figsize'] = 12, 8\n",
    "\n",
    "grid1=modelgrid.Proj4Grid(\"+proj=stere +lon_0=0 +lat_0=60 +lat_ts=60 +ellps=sphere\",\n",
    "                              -20,60,4000,4000,500,300)\n",
    "#grid1.save_to_scrip(\"regionalocn.nc\",None)\n",
    "figure=grid1.plotgrid(2)\n",
    "matplotlib.pyplot.show()\n",
    "tmpdict=grid1.create_datadict_hycom()\n",
    "regf = abfile.write_regional_grid(tmpdict)\n"
   ]
  },
  {
   "cell_type": "code",
   "execution_count": null,
   "metadata": {
    "collapsed": false
   },
   "outputs": [],
   "source": [
    "%load_ext autoreload\n",
    "%autoreload 2\n",
    "%matplotlib inline  \n",
    "\n",
    "import modelgrid\n",
    "import matplotlib.pyplot\n",
    "grid2=modelgrid.Proj4Grid(\"+proj=stere +lon_0=0 +lat_0=40 +lat_ts=40 +ellipse=sphere\",\n",
    "                              -70,10,20000,20000,800,400)\n",
    "figure=grid2.plotgrid(2)\n",
    "matplotlib.pyplot.show()"
   ]
  },
  {
   "cell_type": "code",
   "execution_count": null,
   "metadata": {
    "collapsed": false
   },
   "outputs": [],
   "source": [
    "import abfile\n",
    "\n",
    "\n",
    "grid1.write_my_projection_info()\n",
    "tmpdict=grid1.create_datadict_hycom()\n",
    "regf = abfile.write_regional_grid(tmpdict)\n",
    "grid1.Nx*grid1.Ny*8*2\n"
   ]
  },
  {
   "cell_type": "code",
   "execution_count": null,
   "metadata": {
    "collapsed": false
   },
   "outputs": [],
   "source": [
    "grid1 = modelgrid.Proj4Grid.grid_from_file(filename=\"proj.info\")\n",
    "figure=grid1.plotgrid(2)\n",
    "matplotlib.pyplot.show()"
   ]
  },
  {
   "cell_type": "code",
   "execution_count": null,
   "metadata": {
    "collapsed": false
   },
   "outputs": [],
   "source": [
    "import numpy\n",
    "from mpl_toolkits.basemap import Basemap\n",
    "za = abfile.ABFileGrid(\"regional.grid\",\"r\")\n",
    "lo = za.read_field(\"plon\")\n",
    "la = za.read_field(\"plat\")\n",
    "m = Basemap(projection='mill')\n",
    "x,y=m(lo,la)\n",
    "m.drawcoastlines()\n",
    "m.drawmapboundary() # draw a line around the map region\n",
    "m.drawparallels(numpy.arange(-90.,120.,30.),labels=[1,0,0,0]) # draw parallels\n",
    "m.drawmeridians(numpy.arange(0.,420.,60.),labels=[0,0,0,1]) # draw meridians\n",
    "m.pcolormesh(x,y,lo)   \n"
   ]
  },
  {
   "cell_type": "code",
   "execution_count": null,
   "metadata": {
    "collapsed": true
   },
   "outputs": [],
   "source": []
  },
  {
   "cell_type": "code",
   "execution_count": null,
   "metadata": {
    "collapsed": true
   },
   "outputs": [],
   "source": []
  }
 ],
 "metadata": {
  "kernelspec": {
   "display_name": "Python 2",
   "language": "python",
   "name": "python2"
  },
  "language_info": {
   "codemirror_mode": {
    "name": "ipython",
    "version": 2
   },
   "file_extension": ".py",
   "mimetype": "text/x-python",
   "name": "python",
   "nbconvert_exporter": "python",
   "pygments_lexer": "ipython2",
   "version": "2.7.9"
  }
 },
 "nbformat": 4,
 "nbformat_minor": 0
}
