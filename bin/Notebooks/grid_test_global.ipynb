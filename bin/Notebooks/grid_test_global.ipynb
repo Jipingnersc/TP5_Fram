{
 "cells": [
  {
   "cell_type": "code",
   "execution_count": null,
   "metadata": {
    "collapsed": false,
    "scrolled": false
   },
   "outputs": [],
   "source": [
    "%load_ext autoreload\n",
    "%autoreload 2\n",
    "%matplotlib inline  \n",
    "\n",
    "import modeltools.grid\n",
    "import matplotlib.pyplot\n",
    "import netCDF4\n",
    "gridg=modeltools.grid.Proj4Grid(\"+proj=latlong\",\n",
    "                              0,-90,.125,.125,2880,1440)\n",
    "#figure=grid1.plotgrid(2)\n",
    "#matplotlib.pyplot.show()\n",
    "figure=gridg.plotgrid()\n",
    "matplotlib.pyplot.show()\n",
    "gridg.save_to_scrip(\"globalatm.nc\",None)\n"
   ]
  },
  {
   "cell_type": "code",
   "execution_count": null,
   "metadata": {
    "collapsed": true
   },
   "outputs": [],
   "source": []
  }
 ],
 "metadata": {
  "kernelspec": {
   "display_name": "Python 2",
   "language": "python",
   "name": "python2"
  },
  "language_info": {
   "codemirror_mode": {
    "name": "ipython",
    "version": 2
   },
   "file_extension": ".py",
   "mimetype": "text/x-python",
   "name": "python",
   "nbconvert_exporter": "python",
   "pygments_lexer": "ipython2",
   "version": "2.7.9"
  }
 },
 "nbformat": 4,
 "nbformat_minor": 0
}
