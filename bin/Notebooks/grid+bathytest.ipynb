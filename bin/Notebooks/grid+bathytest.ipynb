{
 "cells": [
  {
   "cell_type": "code",
   "execution_count": null,
   "metadata": {
    "collapsed": false
   },
   "outputs": [],
   "source": [
    "%load_ext autoreload\n",
    "%autoreload 2\n",
    "%matplotlib inline  \n",
    "\n",
    "import modeltools.grid\n",
    "import matplotlib.pyplot\n",
    "import abfile\n",
    "import numpy\n",
    "\n",
    "bathy_threshold=-5.\n",
    "grid1=modeltools.grid.Proj4Grid(\"+proj=stere  +lon_0=-45 +lat_0=90 +lat_ts=80 +ellps=sphere\",\n",
    "                              -89.5,45.5,5500,5500,1350,1150)\n",
    "figure=grid1.plotgrid(1.5)\n",
    "matplotlib.pyplot.show()\n",
    "tmpdict=modeltools.grid.create_datadict_hycom(grid1)\n",
    "abfile.write_regional_grid(tmpdict)\n",
    "\n"
   ]
  },
  {
   "cell_type": "code",
   "execution_count": null,
   "metadata": {
    "collapsed": true
   },
   "outputs": [],
   "source": []
  },
  {
   "cell_type": "code",
   "execution_count": null,
   "metadata": {
    "collapsed": false,
    "scrolled": false
   },
   "outputs": [],
   "source": [
    "from mpl_toolkits.basemap import Basemap\n",
    "#gebco = modeltools.bathy.GEBCO2014(\"/Users/knutal/Bathymetry/GEBCO/GEBCO_2014_2D.nc\")\n",
    "gebco = modeltools.bathy.GEBCO2014(\"/work/shared/nersc/msc/ModelInput/bathymetry/GEBCO_2014/GEBCO_2014_2D_median8km.nc\")\n",
    "\n",
    "lon,lat=grid1.pgrid()\n",
    "\n",
    "w2=gebco.regrid(lon,lat,width=grid1.dx)\n",
    "w2=numpy.ma.masked_where(w2>=bathy_threshold,w2)\n",
    "\n",
    "\n",
    "\n",
    "\n",
    "\n",
    "def plot_map(ax,m,lon,lat,w2) :\n",
    "    x,y=m(lon,lat)\n",
    "    P=m.pcolormesh(x,y,w2,ax=ax)\n",
    "    ax = P.get_axes()\n",
    "    ax.set_axis_bgcolor('.5')\n",
    "    m.drawcoastlines()\n",
    "    m.drawmapboundary() # draw a line around the map region\n",
    "    m.drawparallels(numpy.arange(-90.,120.,10.),labels=[1,0,0,0],ax=ax) # draw parallels\n",
    "    m.drawmeridians(numpy.arange(0.,420.,10.),labels=[0,0,0,1],ax=ax) # draw meridians\n",
    "    ax.grid()\n",
    "    return P\n",
    "\n",
    "def plot_excerpt(lon,lat,w2) :\n",
    "\n",
    "    figure = matplotlib.pyplot.figure(figsize=(20,20))\n",
    "    ax=figure.add_subplot(221)\n",
    "    P=matplotlib.pyplot.pcolormesh(w2)\n",
    "    P.set_clim(-3000,0)\n",
    "    ax = P.get_axes()\n",
    "    ax.set_axis_bgcolor('.5')\n",
    "    ax.grid()\n",
    "\n",
    "    ax=figure.add_subplot(222)\n",
    "    m = Basemap(width=750000,height=750000,\n",
    "                resolution='i',projection='stere',\\\n",
    "                lat_ts=80,lat_0=80,lon_0=5.)\n",
    "    P=plot_map(ax,m,lon,lat,w2)\n",
    "    P.set_clim(-3000,0)\n",
    "\n",
    "\n",
    "\n",
    "    ax=figure.add_subplot(223)\n",
    "    m = Basemap(width=500000,height=500000,\n",
    "                resolution='i',projection='stere',\\\n",
    "                lat_ts=60,lat_0=60,lon_0=5.)\n",
    "    P=plot_map(ax,m,lon,lat,w2)\n",
    "    P.set_clim(-750,0)\n",
    "    \n",
    "    ax=figure.add_subplot(224)\n",
    "    m = Basemap(width=1000000,height=1000000,\n",
    "                resolution='i',projection='stere',\\\n",
    "                lat_ts=70,lat_0=70,lon_0=-20)\n",
    "    P=plot_map(ax,m,lon,lat,w2)\n",
    "    P.set_clim(-750,0)\n",
    "\n",
    "    matplotlib.pyplot.show()\n",
    "    \n",
    "plot_excerpt(lon,lat,w2)\n"
   ]
  },
  {
   "cell_type": "code",
   "execution_count": null,
   "metadata": {
    "collapsed": false,
    "scrolled": false
   },
   "outputs": [],
   "source": [
    "w3=numpy.copy(w2)\n",
    "w3=modeltools.bathy.shapiro_filter(w3)\n",
    "\n",
    "print \"PAss 1\"\n",
    "w3=modeltools.bathy.remove_one_neighbour_cells(w3)\n",
    "w3=modeltools.bathy.remove_isolated_basins(lon,lat,w3,[0,36],[60,75])\n",
    "w3=modeltools.bathy.remove_islets(w3)\n",
    "\n",
    "print \"PAss 2\"\n",
    "w3=modeltools.bathy.remove_one_neighbour_cells(w3)\n",
    "w3=modeltools.bathy.remove_isolated_basins(lon,lat,w3,[0,36],[60,75])\n",
    "w3=modeltools.bathy.remove_islets(w3)\n",
    "\n",
    "w3=numpy.ma.masked_where(w3>=modeltools.bathy.default_threshold,w3)\n",
    "\n",
    "plot_excerpt(lon,lat,w3)"
   ]
  },
  {
   "cell_type": "code",
   "execution_count": null,
   "metadata": {
    "collapsed": false,
    "scrolled": false
   },
   "outputs": [],
   "source": [
    "def plot_sidebyside(lon,lat,w2,w3) :\n",
    "\n",
    "    figure = matplotlib.pyplot.figure(figsize=(15,40))\n",
    "\n",
    "    ax=figure.add_subplot(521)\n",
    "    m = Basemap(width=750000,height=750000,\n",
    "                resolution='i',projection='stere',\\\n",
    "                lat_ts=80,lat_0=80,lon_0=5.)\n",
    "    P=plot_map(ax,m,lon,lat,w2)\n",
    "    P.set_clim(-3000,0)\n",
    "    \n",
    "    ax=figure.add_subplot(522)\n",
    "    P=plot_map(ax,m,lon,lat,w3)\n",
    "    P.set_clim(-3000,0)\n",
    "\n",
    "\n",
    "    ax=figure.add_subplot(523)\n",
    "    m = Basemap(width=500000,height=500000,\n",
    "                resolution='i',projection='stere',\\\n",
    "                lat_ts=60,lat_0=60,lon_0=5.)\n",
    "    P=plot_map(ax,m,lon,lat,w2)\n",
    "    P.set_clim(-750,0)\n",
    "    \n",
    "    ax=figure.add_subplot(524)\n",
    "    P=plot_map(ax,m,lon,lat,w3)\n",
    "    P.set_clim(-750,0)\n",
    "\n",
    "    \n",
    "    ax=figure.add_subplot(525)\n",
    "    m = Basemap(width=1000000,height=1000000,\n",
    "                resolution='i',projection='stere',\\\n",
    "                lat_ts=70,lat_0=70,lon_0=-20)\n",
    "    P=plot_map(ax,m,lon,lat,w2)\n",
    "    P.set_clim(-2000,0)\n",
    "    \n",
    "    ax=figure.add_subplot(526)\n",
    "    P=plot_map(ax,m,lon,lat,w3)\n",
    "    P.set_clim(-2000,0)\n",
    "    \n",
    "    \n",
    "    ax=figure.add_subplot(527)\n",
    "    m = Basemap(width=1500000,height=1500000,\n",
    "                resolution='i',projection='stere',\\\n",
    "                lat_ts=75,lat_0=75,lon_0=-100)\n",
    "    P=plot_map(ax,m,lon,lat,w2)\n",
    "    P.set_clim(-500,0)\n",
    "    \n",
    "    ax=figure.add_subplot(528)\n",
    "    P=plot_map(ax,m,lon,lat,w3)\n",
    "    P.set_clim(-500,0)\n",
    "    \n",
    "    ax=figure.add_subplot(529)\n",
    "    m = Basemap(width=1000000,height=1000000,\n",
    "                resolution='i',projection='stere',\\\n",
    "                lat_ts=55,lat_0=55,lon_0=0)\n",
    "    P=plot_map(ax,m,lon,lat,w2)\n",
    "    P.set_clim(-300,0)\n",
    "    \n",
    "    ax=figure.add_subplot(5,2,10)\n",
    "    P=plot_map(ax,m,lon,lat,w3)\n",
    "    P.set_clim(-300,0)\n",
    "\n",
    "    matplotlib.pyplot.show()\n",
    "    \n",
    "    \n",
    "plot_sidebyside(lon,lat,w2,w3)"
   ]
  },
  {
   "cell_type": "code",
   "execution_count": null,
   "metadata": {
    "collapsed": false
   },
   "outputs": [],
   "source": [
    "modeltools.hycom.io.write_bathymetry(\"TP5a0.05\",1,-w3,-modeltools.bathy.default_threshold)\n"
   ]
  },
  {
   "cell_type": "code",
   "execution_count": null,
   "metadata": {
    "collapsed": false
   },
   "outputs": [],
   "source": [
    "tmp=modeltools.hycom.io.ABFileBathy(\"depth_TP5a0.05_01\",\"r\",w3.shape[1],w3.shape[0])\n",
    "w4=tmp.readfield(\"depth\")\n",
    "w4=numpy.ma.masked_where(w4> modeltools.hycom.io.AFile._huge*.5,w4)\n",
    "tmp.close()\n",
    "figure = matplotlib.pyplot.figure(figsize=(10,10))\n",
    "ax=figure.add_subplot(111)\n",
    "P=matplotlib.pyplot.pcolormesh(w4)\n",
    "#P.set_clim(0,3000)\n",
    "ax = P.get_axes()\n",
    "ax.set_axis_bgcolor('.5')\n",
    "ax.grid()\n"
   ]
  },
  {
   "cell_type": "code",
   "execution_count": null,
   "metadata": {
    "collapsed": true
   },
   "outputs": [],
   "source": []
  }
 ],
 "metadata": {
  "kernelspec": {
   "display_name": "Python 2",
   "language": "python",
   "name": "python2"
  },
  "language_info": {
   "codemirror_mode": {
    "name": "ipython",
    "version": 2
   },
   "file_extension": ".py",
   "mimetype": "text/x-python",
   "name": "python",
   "nbconvert_exporter": "python",
   "pygments_lexer": "ipython2",
   "version": "2.7.9"
  }
 },
 "nbformat": 4,
 "nbformat_minor": 0
}
