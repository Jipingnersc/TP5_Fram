{
 "cells": [
  {
   "cell_type": "code",
   "execution_count": null,
   "metadata": {
    "collapsed": false
   },
   "outputs": [],
   "source": [
    "%load_ext autoreload\n",
    "%autoreload 2\n",
    "%matplotlib inline  \n",
    "\n",
    "import datetime\n",
    "import numpy\n",
    "import modeltools.forcing.atmosphere\n",
    "import pylab\n",
    "from mpl_toolkits.basemap import Basemap, shiftgrid\n",
    "pylab.rcParams['figure.figsize'] = 12, 8\n",
    "\n",
    "m = Basemap(resolution='c',projection='ortho',lat_0=90.,lon_0=0.)\n",
    "\n",
    "\n",
    "\n",
    "# Define (or read) grid\n",
    "grid1=modeltools.grid.Proj4Grid(\"+proj=stere  +lon_0=-45 +lat_0=90 +lat_ts=80 +ellps=sphere\",\n",
    "                          -89.5,45.5,20000,20000,400,300)\n",
    "mlon,mlat=grid1.pgrid()\n",
    "print mlon.shape\n",
    "x,y=m(mlon,mlat)\n",
    "\n",
    "dt = datetime.datetime(2015,2,15,18,0,0)\n",
    "srad_top,cosz,cosz_noon = modeltools.forcing.atmosphere.qsw_et(dt,mlon,mlat)\n",
    "ssrd =  modeltools.forcing.atmosphere.qsw_allsky_rosato(srad_top,cosz,cosz_noon,numpy.ones(cosz.shape)*0) \n",
    "\n",
    "srad_top=numpy.ma.masked_where(srad_top<=0.,srad_top)\n",
    "ssrd=numpy.ma.masked_where(ssrd<=0.,ssrd)\n",
    "\n",
    "parallels = numpy.arange(-80.,90,20.)\n",
    "meridians = numpy.arange(0.,360.,20.)\n",
    "m.pcolormesh(x,y,srad_top)\n",
    "m.colorbar()\n",
    "m.drawparallels(parallels)\n",
    "m.drawmeridians(meridians)\n",
    "m.drawcoastlines()\n",
    "\n",
    "pylab.figure()\n",
    "m.pcolormesh(x,y,srad_top-ssrd)\n",
    "m.colorbar()\n",
    "m.drawparallels(parallels)\n",
    "m.drawmeridians(meridians)\n",
    "m.drawcoastlines()\n",
    "\n"
   ]
  },
  {
   "cell_type": "code",
   "execution_count": null,
   "metadata": {
    "collapsed": true
   },
   "outputs": [],
   "source": []
  },
  {
   "cell_type": "code",
   "execution_count": null,
   "metadata": {
    "collapsed": true
   },
   "outputs": [],
   "source": []
  }
 ],
 "metadata": {
  "kernelspec": {
   "display_name": "Python 2",
   "language": "python",
   "name": "python2"
  },
  "language_info": {
   "codemirror_mode": {
    "name": "ipython",
    "version": 2
   },
   "file_extension": ".py",
   "mimetype": "text/x-python",
   "name": "python",
   "nbconvert_exporter": "python",
   "pygments_lexer": "ipython2",
   "version": "2.7.9"
  }
 },
 "nbformat": 4,
 "nbformat_minor": 0
}
