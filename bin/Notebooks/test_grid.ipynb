{
 "cells": [
  {
   "cell_type": "code",
   "execution_count": null,
   "metadata": {
    "collapsed": false
   },
   "outputs": [],
   "source": [
    "import abfile\n",
    "import numpy\n",
    "import matplotlib.pyplot as plt\n",
    "%matplotlib inline\n",
    "\n",
    "def plot_fld(vname,tst1,tst2) :\n",
    "    f, (ax1, ax2,ax3) = plt.subplots(1, 3, figsize=(15, 5))\n",
    "    P=ax1.pcolormesh(tst1[vname]) ; plt.colorbar(P,ax=ax1); ax1.set_title(vname); \n",
    "    P=ax2.pcolormesh(tst2[vname]) ; plt.colorbar(P,ax=ax2); ax2.set_title(vname); \n",
    "    P=ax3.pcolormesh(tst2[vname]-tst1[vname]) ; plt.colorbar(P,ax=ax3); ax3.set_title(vname); \n",
    "\n",
    "tmp1=abfile.ABFileGrid(\"tp5.regional.grid\",\"r\")\n",
    "tmp2=abfile.ABFileGrid(\"regional.grid\",\"r\")\n",
    "\n",
    "tst1={}\n",
    "tst2={}\n",
    "\n",
    "for i in sorted(tmp1.fieldnames) :\n",
    "    tst1[i]=tmp1.read_field(i);\n",
    "    tst2[i]=tmp2.read_field(i);\n",
    "    print \"Variable %s, max abs diff=%14.6g\"%(i,numpy.abs(tst1[i]-tst2[i]).max())\n",
    "tmp1.close()\n",
    "tmp2.close()\n",
    "    \n",
    "plot_fld(\"cori\",tst1,tst2)\n",
    "plot_fld(\"plat\",tst1,tst2)\n",
    "plot_fld(\"pang\",tst1,tst2)\n",
    "plot_fld(\"pasp\",tst1,tst2)\n",
    "plot_fld(\"scpx\",tst1,tst2)\n",
    "\n",
    "\n",
    "\n",
    "\n"
   ]
  },
  {
   "cell_type": "code",
   "execution_count": null,
   "metadata": {
    "collapsed": true
   },
   "outputs": [],
   "source": []
  },
  {
   "cell_type": "code",
   "execution_count": null,
   "metadata": {
    "collapsed": true
   },
   "outputs": [],
   "source": []
  }
 ],
 "metadata": {
  "kernelspec": {
   "display_name": "Python 2",
   "language": "python",
   "name": "python2"
  },
  "language_info": {
   "codemirror_mode": {
    "name": "ipython",
    "version": 2
   },
   "file_extension": ".py",
   "mimetype": "text/x-python",
   "name": "python",
   "nbconvert_exporter": "python",
   "pygments_lexer": "ipython2",
   "version": "2.7.9"
  }
 },
 "nbformat": 4,
 "nbformat_minor": 0
}
